{
 "cells": [
  {
   "cell_type": "markdown",
   "metadata": {},
   "source": [
    "# Kaggle project: Best Frameglass Order\n",
    "\n",
    "## Introduction\n",
    "\n",
    "We have 2 types of paintings: landscape and portrait. Each frameglass is able to hold 1 landscape painting or 2 portrait paintings. Each painting has a set of tags. The goal is to find the best order of frameglasses to maximize Global Robotic Satisfaction score.\n",
    "\n",
    "Global Robotic Satisfaction score is a sum of Local Robotic Satisfaction. Local Robotic Satisfaction is calculated as a minimum of these 3 values:\n",
    "\n",
    "- The number of common tags between two neighboring frameglasses\n",
    "\n",
    "- The number of tags in the first painting but not in the second painting\n",
    "\n",
    "- The number of tags in the second painting but not in the first painting\n",
    "\n",
    "## Approach\n",
    "\n",
    "We have 2 problems here:\n",
    "\n",
    "1. How to divide the paintings into groups of 1 landscape painting and 2 portrait paintings\n",
    "\n",
    "2. How to order the paintings in each group to maximize the Global Robotic Satisfaction score\n",
    "\n",
    "These 2 problems can't be solved independently. We need to solve them together. We can use dynamic programming to solve this problem.\n",
    "\n",
    "To maximize the Global Robotic Satisfaction score, we need to maximize the Local Robotic Satisfaction score between each pair of neighboring paintings. We can use dynamic programming to calculate the Local Robotic Satisfaction score between each pair of neighboring frameglasses.\n",
    "\n",
    "Also, to maximize LRS score, we have to use frameglasses that have a half of the same tags, because the LRS score is $n/2$ at the best where $n$ is $min(tags1, tags2)$. It also means that it is better to assemble frameglasses with the most different tags."
   ]
  },
  {
   "cell_type": "code",
   "execution_count": 10,
   "metadata": {},
   "outputs": [],
   "source": [
    "'''Parse file data and return a list of dictionaries.\n",
    "First row contains a number of columns, and the rest of the rows contain data:\n",
    "- L or P in the first column indicates landscape or portrait orientation\n",
    "- The second column contains a number of tags\n",
    "- The rest of the columns contain the tags\n",
    "\n",
    "@param file: path to the file\n",
    "@return: a tuple containing the number of columns and a list of dictionaries'''\n",
    "def parse_file(file):\n",
    "    with open(file, 'r') as f:\n",
    "        lines = f.readlines()\n",
    "    n = int(lines[0])\n",
    "    data = []\n",
    "    i = 0\n",
    "    for line in lines[1:]:\n",
    "        line = line.strip().split()\n",
    "        orientation = line[0]\n",
    "        tags = set(line[2:])\n",
    "        data.append({'orientation': orientation, 'tags': tags, 'index': i})\n",
    "        i += 1\n",
    "    return n, data"
   ]
  },
  {
   "cell_type": "code",
   "execution_count": 11,
   "metadata": {},
   "outputs": [
    {
     "name": "stdout",
     "output_type": "stream",
     "text": [
      "number of columns: 4\n",
      "data: [{'orientation': 'L', 'tags': {'animals', 'war', 'fear'}, 'index': 0}, {'orientation': 'P', 'tags': {'woman', 'smile'}, 'index': 1}, {'orientation': 'P', 'tags': {'woman', 'pearl'}, 'index': 2}]\n"
     ]
    }
   ],
   "source": [
    "n, data = parse_file('data/0_example.txt')\n",
    "print(f'number of columns: {n}')\n",
    "print(f'data: {data[:3]}')"
   ]
  },
  {
   "cell_type": "code",
   "execution_count": 12,
   "metadata": {},
   "outputs": [
    {
     "name": "stdout",
     "output_type": "stream",
     "text": [
      "portrait: [{'orientation': 'P', 'tags': {'woman', 'smile'}, 'index': 1}, {'orientation': 'P', 'tags': {'woman', 'pearl'}, 'index': 2}]\n"
     ]
    }
   ],
   "source": [
    "# get only portrait orientation\n",
    "portraits = [d for d in data if d['orientation'] == 'P']\n",
    "\n",
    "# get only landscape orientation\n",
    "landscapes = [d for d in data if d['orientation'] == 'L']\n",
    "\n",
    "# sort by number of tags\n",
    "portraits.sort(key=lambda x: len(x['tags']), reverse=True)\n",
    "print(f'portrait: {portraits[:3]}')"
   ]
  },
  {
   "cell_type": "code",
   "execution_count": 13,
   "metadata": {},
   "outputs": [
    {
     "name": "stdout",
     "output_type": "stream",
     "text": [
      "portrait pairs: [({'orientation': 'P', 'tags': {'woman', 'smile'}, 'index': 1}, {'orientation': 'P', 'tags': {'woman', 'pearl'}, 'index': 2})]\n"
     ]
    }
   ],
   "source": [
    "# make frameglasses for portrait paintings pairs\n",
    "# try to pair paintings to maximize the number of tags in the frame\n",
    "portrait_pairs = []\n",
    "while len(portraits) > 1:\n",
    "    pair = (portraits.pop(0), portraits.pop(0))\n",
    "    tags_num = len(pair[0]['tags'].union(pair[1]['tags']))\n",
    "    for i, p in enumerate(portraits):\n",
    "        if len(p.get('tags')) < tags_num * 2:\n",
    "            break\n",
    "        if len(pair[0]['tags'].union(p['tags'])) > tags_num:\n",
    "            p2 = p\n",
    "            portraits.insert(0, pair[1])\n",
    "            pair = (pair[0], p2)\n",
    "            tags_num = len(pair[0]['tags'].union(p2['tags']))\n",
    "    portrait_pairs.append(pair)\n",
    "if portraits:\n",
    "    p1 = portraits.pop()\n",
    "    p2 = {'index': -1, 'orientation': 'P', 'tags': set()}\n",
    "    portrait_pairs.append((p1, p2))\n",
    "    \n",
    "print(f'portrait pairs: {portrait_pairs[:3]}')\n",
    "        "
   ]
  },
  {
   "cell_type": "code",
   "execution_count": 14,
   "metadata": {},
   "outputs": [
    {
     "name": "stdout",
     "output_type": "stream",
     "text": [
      "frames: [{'index': (1, 2), 'orientation': 'P', 'tags': {'woman', 'smile', 'pearl'}}, {'orientation': 'L', 'tags': {'animals', 'war', 'fear'}, 'index': 0}, {'orientation': 'L', 'tags': {'raft', 'survivors', 'fear'}, 'index': 3}]\n"
     ]
    }
   ],
   "source": [
    "# make frameglasses for portrait paintings pairs\n",
    "portrait_frames = [{'index': (pair[0]['index'], pair[1]['index']), 'orientation': 'P', 'tags': pair[0]['tags'].union(pair[1]['tags'])} for pair in portrait_pairs]\n",
    "\n",
    "# assemble the final list of frames\n",
    "frames = list()\n",
    "frames.extend(portrait_frames)\n",
    "frames.extend(landscapes)\n",
    "\n",
    "# sort by number of tags\n",
    "frames.sort(key=lambda x: len(x['tags']), reverse=True)\n",
    "print(f'frames: {frames[:3]}')"
   ]
  },
  {
   "cell_type": "code",
   "execution_count": 15,
   "metadata": {},
   "outputs": [],
   "source": [
    "# hash for set\n",
    "def hash_set(s):\n",
    "    return hash(frozenset(s))"
   ]
  },
  {
   "cell_type": "code",
   "execution_count": 16,
   "metadata": {},
   "outputs": [
    {
     "name": "stdout",
     "output_type": "stream",
     "text": [
      "frames: [{'index': (1, 2), 'orientation': 'P', 'tags': frozenset({440877390908123625, 8697234866578626793, 6618485843842445164}), 'tags_len': 3}, {'orientation': 'L', 'tags': frozenset({-1051352563447212037, -4180813245887153130, -552241177864762457}), 'index': 0, 'tags_len': 3}, {'orientation': 'L', 'tags': frozenset({17893073124569963, -1928013205527661939, -552241177864762457}), 'index': 3, 'tags_len': 3}]\n"
     ]
    }
   ],
   "source": [
    "# make all sets of tags as numpy unique arrays\n",
    "for frame in frames:\n",
    "    frame['tags'] = frozenset([hash(tag) for tag in frame['tags']])\n",
    "    frame['tags_len'] = len(frame['tags'])\n",
    "\n",
    "print(f'frames: {frames[:3]}')"
   ]
  },
  {
   "cell_type": "code",
   "execution_count": 17,
   "metadata": {},
   "outputs": [],
   "source": [
    "# LRS function\n",
    "#lrs_memorized = dict()\n",
    "def lrs(frame_1, frame_2):\n",
    "    #if lrs_memorized.get((hash_set(frame_1['tags']), hash_set(frame_2['tags']))):\n",
    "    #    return lrs_memorized[(hash_set(frame_1['tags']), hash_set(frame_2['tags']))]\n",
    "    min_num = min(frame_1['tags_len'], frame_2['tags_len'])\n",
    "    common_tags = frame_1['tags'] & frame_2['tags']\n",
    "    common_tags_len = len(common_tags)\n",
    "    # memoization\n",
    "    #lrs_memorized[(hash_set(frame_1['tags']), hash_set(frame_2['tags']))] = result\n",
    "    return min(common_tags_len, min_num - common_tags_len)"
   ]
  },
  {
   "cell_type": "code",
   "execution_count": 18,
   "metadata": {},
   "outputs": [
    {
     "name": "stdout",
     "output_type": "stream",
     "text": [
      "frames ordered: 3\r"
     ]
    }
   ],
   "source": [
    "# order the frames to maximize LRS while traversing the list\n",
    "frames_ordered = list()\n",
    "frames_ordered.append(frames.pop(0))\n",
    "while frames:\n",
    "    frame_index = 0\n",
    "    max_lrs = lrs(frames_ordered[-1], frames[frame_index])\n",
    "    frames_batch_last_index = next((i for i, f in enumerate(frames) if f['tags_len'] <= max_lrs * 2), len(frames) - 1) - 1\n",
    "    #print(f'frames batch: {frames_batch_last_index}', end='\\r')\n",
    "    #print(f'frames batch: {len(frames_batch)}', end='\\r')\n",
    "    #lrs_list = list(map(lambda f: lrs(frames_ordered[-1], f), frames_batch))\n",
    "    # with Pool() as p:\n",
    "    #     chunk_size = 10000\n",
    "    #     lrs_list = p.starmap(lrs, zip(repeat(frames_ordered[-1]), frames_batch), chunksize=chunk_size)\n",
    "    i = 0\n",
    "    while i < frames_batch_last_index:\n",
    "        lrs_val = lrs(frames_ordered[-1], frames[i])\n",
    "        if lrs_val > max_lrs:\n",
    "            max_lrs = lrs_val\n",
    "            frame_index = i\n",
    "            frames_batch_last_index = next((j for j, f in enumerate(frames, i) if f['tags_len'] <= max_lrs * 2), frames_batch_last_index) - 1\n",
    "            if max_lrs == frames_ordered[-1]['tags_len'] // 2:\n",
    "                break\n",
    "        else:\n",
    "            i += 1\n",
    "    #frame_index = lrs_list.index(max(lrs_list))\n",
    "    frames_ordered.append(frames.pop(frame_index))\n",
    "    #print(f'index: {frame_index}', end='\\r')\n",
    "    print(f'frames ordered: {len(frames_ordered)}', end='\\r')\n"
   ]
  },
  {
   "cell_type": "code",
   "execution_count": 19,
   "metadata": {},
   "outputs": [
    {
     "name": "stdout",
     "output_type": "stream",
     "text": [
      "sum of LRS: 1\n"
     ]
    }
   ],
   "source": [
    "# calculate the sum of LRS\n",
    "sum_lrs = 0\n",
    "for i in range(len(frames_ordered) - 1):\n",
    "    sum_lrs += lrs(frames_ordered[i], frames_ordered[i + 1])\n",
    "print(f'sum of LRS: {sum_lrs}')"
   ]
  },
  {
   "cell_type": "code",
   "execution_count": 20,
   "metadata": {},
   "outputs": [
    {
     "name": "stdout",
     "output_type": "stream",
     "text": [
      "done\n"
     ]
    }
   ],
   "source": [
    "from time import time\n",
    "\n",
    "# write the result to a file\n",
    "with open(f'data/output/{time()}.txt', 'w') as f:\n",
    "    f.write(f'{len(frames_ordered)}\\n')\n",
    "    for frame in frames_ordered:\n",
    "        if frame['orientation'] == 'L':\n",
    "            f.write(f'{frame[\"index\"]}\\n')\n",
    "        else:\n",
    "            i1 = frame['index'][0]\n",
    "            i2 = frame['index'][1]\n",
    "            if i2 == -1:\n",
    "                f.write(f'{i1}\\n')\n",
    "            elif i1 == -1:\n",
    "                f.write(f'{i2}\\n')\n",
    "            else:\n",
    "                i1, i2 = sorted([i1, i2])\n",
    "                f.write(f'{i1} {i2}\\n')\n",
    "print('done')"
   ]
  },
  {
   "cell_type": "code",
   "execution_count": null,
   "metadata": {},
   "outputs": [],
   "source": []
  }
 ],
 "metadata": {
  "kernelspec": {
   "display_name": "Python 3",
   "language": "python",
   "name": "python3"
  },
  "language_info": {
   "codemirror_mode": {
    "name": "ipython",
    "version": 3
   },
   "file_extension": ".py",
   "mimetype": "text/x-python",
   "name": "python",
   "nbconvert_exporter": "python",
   "pygments_lexer": "ipython3",
   "version": "3.9.13"
  }
 },
 "nbformat": 4,
 "nbformat_minor": 2
}
